{
 "cells": [
  {
   "cell_type": "code",
   "execution_count": 1,
   "id": "06983019-5c26-4d95-9dc8-b5b2e7aec138",
   "metadata": {},
   "outputs": [
    {
     "name": "stdout",
     "output_type": "stream",
     "text": [
      "Creating new Ultralytics Settings v0.0.6 file  \n",
      "View Ultralytics Settings with 'yolo settings' or at 'C:\\Users\\PartZ\\AppData\\Roaming\\Ultralytics\\settings.json'\n",
      "Update Settings with 'yolo settings key=value', i.e. 'yolo settings runs_dir=path/to/dir'. For help see https://docs.ultralytics.com/quickstart/#ultralytics-settings.\n"
     ]
    }
   ],
   "source": [
    "import numpy as np\n",
    "import matplotlib.pyplot as plt\n",
    "import cv2 \n",
    "import argparse\n",
    "import sys\n",
    "from typing import List\n",
    "\n",
    "import cv2\n",
    "import pyttsx3\n",
    "from ultralytics import YOLO"
   ]
  },
  {
   "cell_type": "code",
   "execution_count": 4,
   "id": "1a644cdf-45d0-48b2-92f7-ed3486a92402",
   "metadata": {},
   "outputs": [],
   "source": [
    "def draw_boxes(image_bgr, results, score_threshold=0.5):\n",
    "    \"\"\"Draw bounding boxes and labels on a BGR image using YOLO results.\"\"\"\n",
    "    out = image_bgr.copy()\n",
    "    for r in results:\n",
    "        for box in r.boxes:\n",
    "            cls_id = int(box.cls[0])\n",
    "            conf = float(box.conf[0])\n",
    "            if conf < score_threshold:\n",
    "                continue\n",
    "            x1, y1, x2, y2 = map(int, box.xyxy[0].tolist())\n",
    "            cls = r.names[cls_id]\n",
    "            cv2.rectangle(out, (x1, y1), (x2, y2), (0, 255, 0), 2)\n",
    "            text = f\"{cls}: {conf:.2f}\"\n",
    "            ((text_w, text_h), _) = cv2.getTextSize(text, cv2.FONT_HERSHEY_SIMPLEX, 0.6, 1)\n",
    "            cv2.rectangle(out, (x1, y1 - text_h - 6), (x1 + text_w, y1), (0, 255, 0), -1)\n",
    "            cv2.putText(out, text, (x1, y1 - 4), cv2.FONT_HERSHEY_SIMPLEX, 0.6, (0, 0, 0), 1, cv2.LINE_AA)\n",
    "    return out\n",
    "\n",
    "def run_image_mode(input_path: str, score: float = 0.5, output_path: str = None, weights: str = \"yolov8n.pt\"):\n",
    "    model = YOLO(weights)\n",
    "    img = cv2.imread(input_path)\n",
    "    if img is None:\n",
    "        print(f\"Error: could not read {input_path}\")\n",
    "        return\n",
    "    results = model(img)\n",
    "    drawn = draw_boxes(img, results, score)\n",
    "    if output_path:\n",
    "        cv2.imwrite(output_path, drawn)\n",
    "        print(f\"Wrote annotated image to {output_path}\")\n",
    "    else:\n",
    "        cv2.imshow('detected', drawn)\n",
    "        cv2.waitKey(0)\n",
    "        cv2.destroyAllWindows()\n",
    "\n",
    "def main():\n",
    "    args = parse_args()\n",
    "    print('Loading YOLOv8 model...')\n",
    "    model = YOLO(args.weights)\n",
    "    print('Model loaded.')\n",
    "    if args.mode == 'image':\n",
    "        if not args.input:\n",
    "            print('There should be an image in input !')\n",
    "            sys.exit(1)\n",
    "        run_image_mode(args.input, model, args.score, args.output)\n"
   ]
  },
  {
   "cell_type": "code",
   "execution_count": 6,
   "id": "5da1272d-341c-4c03-93bf-bf91b3c050d1",
   "metadata": {},
   "outputs": [
    {
     "name": "stdout",
     "output_type": "stream",
     "text": [
      "\n",
      "0: 448x640 1 chair, 1 couch, 1 bed, 150.1ms\n",
      "Speed: 10.5ms preprocess, 150.1ms inference, 17.8ms postprocess per image at shape (1, 3, 448, 640)\n"
     ]
    }
   ],
   "source": [
    "run_image_mode(\"./images/home-1.jfif\")"
   ]
  },
  {
   "cell_type": "code",
   "execution_count": null,
   "id": "e70e106f-78f1-4757-aa6c-631cdcc10813",
   "metadata": {},
   "outputs": [],
   "source": []
  }
 ],
 "metadata": {
  "kernelspec": {
   "display_name": "HiddenEyekernel",
   "language": "python",
   "name": "hiddeneyekernel"
  },
  "language_info": {
   "codemirror_mode": {
    "name": "ipython",
    "version": 3
   },
   "file_extension": ".py",
   "mimetype": "text/x-python",
   "name": "python",
   "nbconvert_exporter": "python",
   "pygments_lexer": "ipython3",
   "version": "3.12.0"
  }
 },
 "nbformat": 4,
 "nbformat_minor": 5
}
